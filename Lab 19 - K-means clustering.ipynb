{
 "cells": [
  {
   "cell_type": "markdown",
   "metadata": {},
   "source": [
    "# Lab 19: K-means clustering\n",
    "\n",
    "In labs 7-18 we studied *supervised learning*, meaning our training data consisted of the features or independent variables (x), and also labels or the dependent variable (y).  In other words, our training data included the answers for what we were trying to predict.\n",
    "\n",
    "In comparison, in *unsupervised learning*, we do not have labeled data (y), only the independent variables (x).  Unsupervised learning algorithms try to find internal structure in this data."
   ]
  },
  {
   "cell_type": "code",
   "execution_count": null,
   "metadata": {
    "collapsed": true
   },
   "outputs": [],
   "source": [
    "import seaborn as sns\n",
    "import pandas as pd\n",
    "\n",
    "from sklearn.preprocessing import MinMaxScaler\n",
    "\n",
    "from sklearn.cluster import KMeans\n",
    "\n",
    "from sklearn.metrics import confusion_matrix\n",
    "\n",
    "%matplotlib inline"
   ]
  },
  {
   "cell_type": "markdown",
   "metadata": {},
   "source": [
    "### Section 1: Loading, cleaning, and plotting the data\n",
    "\n",
    "We will use the Palmer penguin data set from Lab 3.  Recall it contains information about three species of penguins found in the Palmer Archipelago in Antarctica.\n",
    "\n",
    "The CSV file can be downloaded from [https://raw.githubusercontent.com/mwaskom/seaborn-data/master/penguins.csv](https://raw.githubusercontent.com/mwaskom/seaborn-data/master/penguins.csv) or it can be accessed directly through the Seaborn library using the following command.  This second option only works for new versions of Seaborn, and may not work if using Jupyter Hub on Lehman 360 (in which case use the link for the CSV file above)\n",
    "\n",
    "Load the penguin data set into the variable `penguins`"
   ]
  },
  {
   "cell_type": "code",
   "execution_count": null,
   "metadata": {},
   "outputs": [],
   "source": []
  },
  {
   "cell_type": "markdown",
   "metadata": {},
   "source": [
    "Drop the rows with missing data."
   ]
  },
  {
   "cell_type": "code",
   "execution_count": null,
   "metadata": {},
   "outputs": [],
   "source": []
  },
  {
   "cell_type": "markdown",
   "metadata": {},
   "source": [
    "Plot scatterplots of all pairs of quantitative variables, colored by the species of penguin. \n",
    "\n",
    "Hint:  See Lab 3 for how to do this in one line of code."
   ]
  },
  {
   "cell_type": "code",
   "execution_count": null,
   "metadata": {},
   "outputs": [],
   "source": []
  },
  {
   "cell_type": "markdown",
   "metadata": {},
   "source": [
    "Notice that penguins from the same species have similar physical measurements, and so group together (*cluster*) in the scatter plots.  In some graphs the groups for two different species overlap, but in other graphs we can more clearly see the three different species.\n",
    "\n",
    "But what if we didn't already know which penguins belonged to which species (or even that there are 3 species of penguins in the data).  Could the computer figure this out?"
   ]
  },
  {
   "cell_type": "markdown",
   "metadata": {},
   "source": [
    "### Section 2: K-Means clustering\n",
    "\n",
    "A *clustering* algorithm is a program in which the computer tries to divide the data into a predetermined number of groups, such that data points in a group are more closely related to the other data points in that group than to data points in another group. Usually the Euclidean distance between the features or independent variables (x) is used to measure closeness, as in the K-Nearest Neighbors algorithm.\n",
    "\n",
    "Let's try clustering the penguin data using the k-means clustering algorithm in the scikit-learn package.\n",
    "\n",
    "First, create a new DataFrame `x` containing only the quantitative columns (`bill_length_mm`, `bill_depth_mm`, `flipper_length_mm`, `body_mass_g`)."
   ]
  },
  {
   "cell_type": "code",
   "execution_count": null,
   "metadata": {
    "collapsed": true
   },
   "outputs": [],
   "source": []
  },
  {
   "cell_type": "markdown",
   "metadata": {},
   "source": [
    "Next create a KMeans object, which is a variable storing information about this clustering process (similar to how we created k-nearest neighbors variables, decision tree variables, etc. in the previous labs). \n",
    "\n",
    "The parameter `n_clusters = 3` tells the function that we want to look for 3 clusters, or groups."
   ]
  },
  {
   "cell_type": "code",
   "execution_count": null,
   "metadata": {
    "collapsed": true
   },
   "outputs": [],
   "source": [
    "kmeans = KMeans(n_clusters=3)"
   ]
  },
  {
   "cell_type": "markdown",
   "metadata": {},
   "source": [
    "Next we fit the data to the model.  Because clustering is an unsupervised method, we do not use a `y` variable."
   ]
  },
  {
   "cell_type": "code",
   "execution_count": null,
   "metadata": {},
   "outputs": [],
   "source": [
    "kmeans.fit(x)"
   ]
  },
  {
   "cell_type": "markdown",
   "metadata": {},
   "source": [
    "Now we predict which cluster each data point will be in according to our model, and store this in the variable `clusters`."
   ]
  },
  {
   "cell_type": "code",
   "execution_count": null,
   "metadata": {
    "collapsed": true
   },
   "outputs": [],
   "source": [
    "clusters = kmeans.predict(x)"
   ]
  },
  {
   "cell_type": "markdown",
   "metadata": {},
   "source": [
    "Display the variable `clusters`."
   ]
  },
  {
   "cell_type": "code",
   "execution_count": null,
   "metadata": {},
   "outputs": [],
   "source": []
  },
  {
   "cell_type": "markdown",
   "metadata": {},
   "source": [
    "How many different numbers are there?  What do you think these numbers represent?\n",
    "\n",
    "### Section 3: Evaluating the clusters\n",
    "\n",
    "How well did the clustering algorithm work?\n",
    "\n",
    "One way to evaluate it is visually, by coloring the data points on our scatter plots by the clusters found by the algorith, not by the actual species.\n",
    "\n",
    "We can do this by creating a new column in our DataFrame `penguins` called `clusters` with the clusters found in the last section."
   ]
  },
  {
   "cell_type": "code",
   "execution_count": null,
   "metadata": {},
   "outputs": [],
   "source": []
  },
  {
   "cell_type": "markdown",
   "metadata": {},
   "source": [
    "<details><summary>Answer:</summary>\n",
    "    <code>\n",
    "    penguins[\"clusters\"] = clusters\n",
    "    </code>\n",
    "</details>"
   ]
  },
  {
   "cell_type": "markdown",
   "metadata": {},
   "source": [
    "Again plot the scatterplots between all pairs of quantitative variables, but this time color the points by the cluster."
   ]
  },
  {
   "cell_type": "code",
   "execution_count": null,
   "metadata": {},
   "outputs": [],
   "source": []
  },
  {
   "cell_type": "markdown",
   "metadata": {},
   "source": [
    "Compare these plots to the first set of scatterplots that are colored by the actual species.  Did the k-means clustering algorithm do a good job?  Why or why not?\n",
    "\n",
    "A second method to evaluate how well the clustering worked is with a confusion matrix.  We first have to map the cluster numbers to the species.  We can do this with the `map` function from Lab 4."
   ]
  },
  {
   "cell_type": "code",
   "execution_count": null,
   "metadata": {},
   "outputs": [],
   "source": [
    "cluster_map = {\"0\":\"Adelie\", \"1\":\"Chinstrap\", \"2\":\"Gentoo\"}\n",
    "penguins[\"mapped_clusters\"] = penguins[\"clusters\"].apply(str).map(cluster_map)\n",
    "penguins.head()"
   ]
  },
  {
   "cell_type": "markdown",
   "metadata": {},
   "source": [
    "Notice that we have an extra function `apply(str)`, which is needed to change the `clusters` function from type `int` to string before applying the map.  However, by doing the type change as we apply the map, we did not change the type of the `clusters` column permanently.\n",
    "\n",
    "We'll now create the confusion matrix using the scikit learn function from previous lab.  Can you figure out how to do it?  The true values (the `species` column) should be the first parameter."
   ]
  },
  {
   "cell_type": "code",
   "execution_count": null,
   "metadata": {},
   "outputs": [],
   "source": []
  },
  {
   "cell_type": "markdown",
   "metadata": {},
   "source": [
    "<details><summary>Answer:</summary>\n",
    "    <code>\n",
    "    confusion_matrix(penguins[\"species\"], penguins[\"mapped_clusters\"])\n",
    "    </code>\n",
    "</details>\n",
    "\n",
    "To know for sure which row/column corresponds to which penguin species, we can pass the order into the function as a parameter:"
   ]
  },
  {
   "cell_type": "code",
   "execution_count": null,
   "metadata": {},
   "outputs": [],
   "source": [
    "confusion_matrix(penguins[\"species\"], penguins[\"mapped_clusters\"], labels = [\"Adelie\",\"Chinstrap\",\"Gentoo\"])"
   ]
  },
  {
   "cell_type": "markdown",
   "metadata": {},
   "source": [
    "Which penguin species was most likely to be grouped correctly?  Which penguin species was least likely to be grouped correctly?  Is this what you expect from the scatterplots?"
   ]
  },
  {
   "cell_type": "markdown",
   "metadata": {},
   "source": [
    "### Section 4: Scaling the data\n",
    "\n",
    "If we look at the scatterplots involving the body mass variable, we can see that the penguins were mainly divided into clusters by their body mass.  One cluster seems to be penguins with a body mass of roughly 4000 g or less, another cluster seems to be penguins with a body mass of roughly 4000-5000g, and the last cluster seems to be penguins with a body mass greater than 5000g.  We don't see a strong division like this for any of the other variables.\n",
    "\n",
    "What's happening?  Remember in K-Nearest Neighbors that we had to scale our variables to all have values between 0 and 1, so that a large variable didn't dominate the distance calculation?  The same situation is happening here.  Because close data points are placed in the same cluster and because the body mass variable values are so much bigger than the values of the other variables, the body mass variable dominates the distance computations.  In other words, deciding whether two data points are close or not depends mainly on the two body masses.\n",
    "\n",
    "Let's see if scaling our data gives better clustering results.  We will scale the `x` data in the same way as in Lab 13.\n",
    "\n",
    "First create a scaler object."
   ]
  },
  {
   "cell_type": "code",
   "execution_count": null,
   "metadata": {
    "collapsed": true
   },
   "outputs": [],
   "source": []
  },
  {
   "cell_type": "markdown",
   "metadata": {},
   "source": [
    "<details><summary>Answer:</summary>\n",
    "<code>\n",
    "scaler = MinMaxScaler()\n",
    "</code>\n",
    "</details>\n",
    "\n",
    "Next use the `fit_transform()` function on the `scaler` object to scale the `x` data."
   ]
  },
  {
   "cell_type": "code",
   "execution_count": null,
   "metadata": {
    "collapsed": true
   },
   "outputs": [],
   "source": []
  },
  {
   "cell_type": "markdown",
   "metadata": {},
   "source": [
    "<details><summary>Answer:</summary>\n",
    "<code>\n",
    "x_scaled = scaler.fit_transform(x)\n",
    "</code>\n",
    "</details>\n",
    "\n",
    "Create and fit a `KMeans` clustering object for 3 clusters to the scaled data."
   ]
  },
  {
   "cell_type": "code",
   "execution_count": null,
   "metadata": {},
   "outputs": [],
   "source": []
  },
  {
   "cell_type": "markdown",
   "metadata": {},
   "source": [
    "<details><summary>Answer:</summary>\n",
    "<code>\n",
    "kmeans_scaled = KMeans(n_clusters = 3)\n",
    "kmeans_scaled.fit(x_scaled)</code>\n",
    "</details>\n",
    "\n",
    "Cluster the scaled x data, and store it as a new column in the `penguins` DataFrame."
   ]
  },
  {
   "cell_type": "code",
   "execution_count": null,
   "metadata": {
    "collapsed": true
   },
   "outputs": [],
   "source": []
  },
  {
   "cell_type": "markdown",
   "metadata": {},
   "source": [
    "<details><summary>Answer:</summary>\n",
    "<code>\n",
    "penguins[\"clusters_scaled\"] = kmeans_scaled.predict(x_scaled)\n",
    "</code>\n",
    "</details>\n",
    "\n",
    "Are the clusters the same for the scaled and original unscaled data?"
   ]
  },
  {
   "cell_type": "code",
   "execution_count": null,
   "metadata": {},
   "outputs": [],
   "source": []
  },
  {
   "cell_type": "markdown",
   "metadata": {},
   "source": [
    "### Section 5: Evaluating the clusters with scaling\n",
    "\n",
    "Let's evaluate the new clusters.  Plot the scatterplots for each pair of quantitative variables colored by the clusters created from the scaled data."
   ]
  },
  {
   "cell_type": "code",
   "execution_count": null,
   "metadata": {},
   "outputs": [],
   "source": []
  },
  {
   "cell_type": "markdown",
   "metadata": {},
   "source": [
    "How do these scatterplots compare to the ones colored by species?\n",
    "\n",
    "As in section 3, let's map the clusters to the species names and compute the confusion matrix.  Note that the map may be different than in section 3."
   ]
  },
  {
   "cell_type": "code",
   "execution_count": null,
   "metadata": {},
   "outputs": [],
   "source": []
  },
  {
   "cell_type": "code",
   "execution_count": null,
   "metadata": {},
   "outputs": [],
   "source": []
  },
  {
   "cell_type": "markdown",
   "metadata": {},
   "source": [
    "<details><summary>Answer:</summary>\n",
    "<code>\n",
    "cluster_scaled_map = {\"1\":\"Adelie\", \"2\":\"Chinstrap\", \"0\":\"Gentoo\"}\n",
    "penguins[\"mapped_clusters_scaled\"] = penguins[\"clusters_scaled\"].apply(str).map(cluster_scaled_map)\n",
    "\n",
    "confusion_matrix(penguins[\"species\"], penguins[\"mapped_clusters_scaled\"], labels = [\"Adelie\", \"Chinstrap\", \"Gentoo\"])\n",
    "</code>\n",
    "</details>\n",
    "\n",
    "How does this confusion matrix compare to the confusion matrix from clustering the unscaled data?  \n",
    "\n",
    "Did we get better clustering results from using the scaled or unscaled data?"
   ]
  }
 ],
 "metadata": {
  "kernelspec": {
   "display_name": "Python 3",
   "language": "python",
   "name": "python3"
  },
  "language_info": {
   "codemirror_mode": {
    "name": "ipython",
    "version": 3
   },
   "file_extension": ".py",
   "mimetype": "text/x-python",
   "name": "python",
   "nbconvert_exporter": "python",
   "pygments_lexer": "ipython3",
   "version": "3.6.10"
  }
 },
 "nbformat": 4,
 "nbformat_minor": 2
}
