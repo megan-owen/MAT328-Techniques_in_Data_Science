{
 "cells": [
  {
   "cell_type": "markdown",
   "metadata": {},
   "source": [
    "# Lab 2:  Manipulating data frames\n",
    "\n",
    "In this lab, we will learn some common methods for manipulating DataFrames:\n",
    "   * *slice*: extract part of a DataFrame\n",
    "   * *sort*: sort the rows of a DataFrame by one of the columns\n",
    "   * *group*: combine rows in a DataFrame in a calculation\n",
    "   \n",
    "Two other manipulation techniques which we are *not* covering are:\n",
    "   * *pivot*:  rearrange the DataFrame\n",
    "   * *join*:  attach two or more DataFrames together into a single DataFrame\n",
    "\n",
    "### Section 1.1:  Loading the data\n",
    "\n",
    "This lab explores the FBI NICS Firearms Background Check data, which records the number of background check made.  A background check must be made prior to *some* sales of firearms (a big exception is private sales.)  This data is often used as the best approximation of total gun sales at a given time.\n",
    "\n",
    "BuzzFeed converts the PDF data supplied by the FBI to CSV files.\n",
    "\n",
    "For more information on the dataset: [https://github.com/BuzzFeedNews/nics-firearm-background-checks](https://github.com/BuzzFeedNews/nics-firearm-background-checks)\n",
    "\n",
    "For a direct link to the dataset:  [https://raw.githubusercontent.com/BuzzFeedNews/nics-firearm-background-checks/master/data/nics-firearm-background-checks.csv](https://raw.githubusercontent.com/BuzzFeedNews/nics-firearm-background-checks/master/data/nics-firearm-background-checks.csv)\n",
    "\n",
    "Import the necessary libraries:"
   ]
  },
  {
   "cell_type": "code",
   "execution_count": null,
   "metadata": {
    "collapsed": true
   },
   "outputs": [],
   "source": [
    "import matplotlib.pyplot as plt\n",
    "import pandas as pd\n",
    "%matplotlib inline"
   ]
  },
  {
   "cell_type": "markdown",
   "metadata": {},
   "source": [
    "Our data set has a lot of columns, so the following code ensures they are all displayed."
   ]
  },
  {
   "cell_type": "code",
   "execution_count": null,
   "metadata": {
    "collapsed": true
   },
   "outputs": [],
   "source": [
    "pd.set_option('display.max_columns', None)"
   ]
  },
  {
   "cell_type": "markdown",
   "metadata": {},
   "source": [
    "Read the CSV file into a dataframe called `guns`, and display the dataframe to make sure it was loaded correctly."
   ]
  },
  {
   "cell_type": "code",
   "execution_count": null,
   "metadata": {
    "collapsed": true,
    "scrolled": true
   },
   "outputs": [],
   "source": []
  },
  {
   "cell_type": "markdown",
   "metadata": {},
   "source": [
    "Convert the type of the `month` column into a `datetime` object, and display `guns` to make sure it was successful."
   ]
  },
  {
   "cell_type": "code",
   "execution_count": null,
   "metadata": {
    "collapsed": true
   },
   "outputs": [],
   "source": []
  },
  {
   "cell_type": "code",
   "execution_count": null,
   "metadata": {},
   "outputs": [],
   "source": []
  },
  {
   "cell_type": "markdown",
   "metadata": {},
   "source": [
    "There was no day in the original `month` column.  What happens to the day once we convert this column into a `datetime` object?\n",
    "\n",
    "### Section 1.2: Slicing\n",
    "\n",
    "*Slicing* means accessing or extracting part of a DataFrame.  We have actually already used slicing.  For example, what does the code below get from the DataFrame? "
   ]
  },
  {
   "cell_type": "code",
   "execution_count": null,
   "metadata": {},
   "outputs": [],
   "source": [
    "guns[\"handgun\"]"
   ]
  },
  {
   "cell_type": "markdown",
   "metadata": {},
   "source": [
    "We can extract multiple columns by putting them in a list.  For example, to get the hand gun and long gun permit check columns."
   ]
  },
  {
   "cell_type": "code",
   "execution_count": null,
   "metadata": {},
   "outputs": [],
   "source": [
    "guns[['handgun',\"long_gun\"]]"
   ]
  },
  {
   "cell_type": "markdown",
   "metadata": {},
   "source": [
    "Suppose we want the number of long gun permit checks made in Arizona in January 2021.  We can access exactly that row and column using the `.loc[]` command."
   ]
  },
  {
   "cell_type": "code",
   "execution_count": null,
   "metadata": {},
   "outputs": [],
   "source": [
    "guns.loc[2,\"long_gun\"]"
   ]
  },
  {
   "cell_type": "markdown",
   "metadata": {},
   "source": [
    "Can you figure out what 2 is?  \n",
    "\n",
    "The two coordinates for `.loc` are always the row or rows, then the column or columns, in that order.  Thus the 2 above is the row index (shown on the very left when the `guns` DataFrame is displayed) for January 2021, Arizona.\n",
    "\n",
    "Use `.loc` to extract the state at row 15."
   ]
  },
  {
   "cell_type": "code",
   "execution_count": null,
   "metadata": {},
   "outputs": [],
   "source": []
  },
  {
   "cell_type": "markdown",
   "metadata": {},
   "source": [
    "Is this the 14th state alphabetically? (14th since the row index begins at 0)  Why or why not?\n",
    "\n",
    "To get a range of consecutive rows we use the pattern first_row_index:last_row_index.  Just using a : by itself will get either all rows or all columns, depending on whether it is used first or second, respectively.  For example, the following code gets all columns for rows with indices between 10 and 20 inclusive."
   ]
  },
  {
   "cell_type": "code",
   "execution_count": null,
   "metadata": {},
   "outputs": [],
   "source": [
    "guns.loc[10:20,:]"
   ]
  },
  {
   "cell_type": "markdown",
   "metadata": {},
   "source": [
    "Can you figure out how to extract rows with indices 50 to 100 inclusive, and the `month`, `state` and `permit` columns?  \n",
    "\n",
    "Hint: You can also use a list of columns with `.loc`."
   ]
  },
  {
   "cell_type": "code",
   "execution_count": null,
   "metadata": {},
   "outputs": [],
   "source": []
  },
  {
   "cell_type": "markdown",
   "metadata": {},
   "source": [
    "<details> <summary>Answer:</summary>\n",
    "<code>\n",
    "guns.loc[50:100,[\"month\",\"state\",\"permit\"]]\n",
    "</code>\n",
    "</details>\n",
    "\n",
    "### Section 1.3 Sorting\n",
    "\n",
    "The following code sorts `guns` by the `state` column in ascending and stores the new DataFrame in the variable `sorted_guns`."
   ]
  },
  {
   "cell_type": "code",
   "execution_count": null,
   "metadata": {
    "scrolled": true
   },
   "outputs": [],
   "source": [
    "sorted_guns = guns.sort_values(\"state\")\n",
    "sorted_guns.head(10)"
   ]
  },
  {
   "cell_type": "markdown",
   "metadata": {},
   "source": [
    "The original DataFrame was sorted by `month` (the date) first, then the state.  Is this DataFrame sorted by `state`, then `month`?\n",
    "\n",
    "To sort by two or more columns, pass in a list of the columns in the order you want to sort by (ex. the first column will take priority in the sort, then the second column, etc.)."
   ]
  },
  {
   "cell_type": "code",
   "execution_count": null,
   "metadata": {},
   "outputs": [],
   "source": [
    "sorted_guns2 = guns.sort_values([\"state\",\"month\"])\n",
    "sorted_guns2.head(10)"
   ]
  },
  {
   "cell_type": "markdown",
   "metadata": {},
   "source": [
    "Repeat the code above, but add the parameter `ascending = False` to the function `sort_values()`."
   ]
  },
  {
   "cell_type": "code",
   "execution_count": null,
   "metadata": {},
   "outputs": [],
   "source": []
  },
  {
   "cell_type": "markdown",
   "metadata": {},
   "source": [
    "<details> <summary>Answer:</summary>\n",
    "<code>\n",
    "sorted_guns3 = guns.sort_values([\"state\",\"month\"], ascending = False)\n",
    "sorted_guns3.head(10)\n",
    "</code>\n",
    "</details>\n",
    "\n",
    "What do you think this parameter does?\n",
    "\n",
    "### Section 1.3: Grouping\n",
    "\n",
    "What if we wanted to find the mean number of handgun checks for each state?  Our usual method of filtering would take a while.  Instead we will use the *group by* process, which:\n",
    "- *splits* the data into groups based on some criteria\n",
    "- *applies* a function to each group independently\n",
    "- *combines* the results into a data structure\n",
    "\n",
    "The splitting step is done by the function `groupby()` and a second function, like `mean()`, is applied to the groups."
   ]
  },
  {
   "cell_type": "code",
   "execution_count": null,
   "metadata": {},
   "outputs": [],
   "source": [
    "guns.groupby(\"state\").mean()"
   ]
  },
  {
   "cell_type": "markdown",
   "metadata": {},
   "source": [
    "If we only wanted to see the `handgun` column, we can use:\n"
   ]
  },
  {
   "cell_type": "code",
   "execution_count": null,
   "metadata": {},
   "outputs": [],
   "source": [
    "guns.groupby(\"state\").mean()[\"handgun\"]"
   ]
  },
  {
   "cell_type": "markdown",
   "metadata": {},
   "source": [
    "Other functions we can use with `groupby()` are:\n",
    "- `mean()` : Compute mean of groups\n",
    "- `sum()` : Compute sum of group values\n",
    "- `size()` : Compute group sizes\n",
    "- `count()` : Compute count of group\n",
    "- `std()` : Standard deviation of groups\n",
    "- `var()` : Compute variance of groups\n",
    "- `describe()` : Generates descriptive statistics\n",
    "- `min()` : Compute min of group values\n",
    "- `max()` : Compute max of group values\n",
    "\n",
    "For example, what is the standard deviation of long gun background checks in all states?"
   ]
  },
  {
   "cell_type": "code",
   "execution_count": null,
   "metadata": {},
   "outputs": [],
   "source": []
  },
  {
   "cell_type": "markdown",
   "metadata": {},
   "source": [
    "<details> <summary>Answer:</summary>\n",
    "<code>\n",
    "guns.groupby(\"state\").std()[\"long_gun\"]\n",
    "</code>\n",
    "</details>\n",
    "\n",
    "Notice that the output of `guns.groupby(\"state\").mean()[\"handgun\"]` looks a lot like the output of `value_counts()`.  We can use it to make a bar plot.  Try it below."
   ]
  },
  {
   "cell_type": "code",
   "execution_count": null,
   "metadata": {},
   "outputs": [],
   "source": []
  },
  {
   "cell_type": "markdown",
   "metadata": {},
   "source": [
    "<details> <summary>Answer:</summary>\n",
    "guns.groupby(\"state\").mean()[\"handgun\"].plot(kind = \"bar\")\n",
    "</details>\n",
    "\n",
    "Which state had the most background checks for handguns?\n",
    "\n",
    "We can also use `groupby` for dates.  For example, to sum by month:"
   ]
  },
  {
   "cell_type": "code",
   "execution_count": null,
   "metadata": {},
   "outputs": [],
   "source": [
    "guns.groupby(guns[\"month\"].dt.month).sum()"
   ]
  },
  {
   "cell_type": "markdown",
   "metadata": {},
   "source": [
    "Can you make a bar chart of the number of handgun permit issued each month?\n",
    "\n",
    "Hint 1:  You may want to save the above DataFrame in a variable first.\n",
    "\n",
    "Hint 2:  You do not need to use `value_counts()` since the data is already grouped.  Instead, call the bar plot function on the `handgun` column."
   ]
  },
  {
   "cell_type": "code",
   "execution_count": null,
   "metadata": {},
   "outputs": [],
   "source": []
  },
  {
   "cell_type": "markdown",
   "metadata": {},
   "source": [
    "<details><summary>Answer:</summary>\n",
    "    <code>\n",
    "guns_grouped_by_month = guns.groupby(guns[\"month\"].dt.month).sum()\n",
    "guns_grouped_by_month[\"handgun\"].plot(kind = \"bar\", color = \"blue\")\n",
    "plt.title(\"Total number of handgun background checks in data\")\n",
    "plt.xlabel(\"Month\")\n",
    "plt.ylabel(\"# of background checks\")\n",
    "</code>\n",
    "</details>\n",
    "\n",
    "Which month had highest total number of background checks?  The lowest?\n",
    "\n",
    "Let's plot the total number of background checks for both handguns and long guns on the same graph.  To do this, use the list `[\"handgun\",\"long_gun\"]` of the two columns instead of the just `\"month\"`"
   ]
  },
  {
   "cell_type": "code",
   "execution_count": null,
   "metadata": {
    "collapsed": true
   },
   "outputs": [],
   "source": []
  },
  {
   "cell_type": "markdown",
   "metadata": {},
   "source": [
    "<details><summary>Answer:</summary>\n",
    "    <code>\n",
    "guns_grouped_by_month[[\"handgun\",\"long_gun\"]].plot(kind = \"bar\")\n",
    "plt.title(\"Total number of background checks in data\")\n",
    "plt.xlabel(\"Month\")\n",
    "plt.ylabel(\"# of background checks\")\n",
    "</code>\n",
    "</details>\n",
    "\n",
    "Are there any significant differences in background checks between handguns and long guns?  Why might this be?  (Hint:  hunting season is usually in the fall)\n",
    "\n",
    "### Section 1.4  Putting it all together\n",
    "\n",
    "Suppose we want to make a line plot showing how the total number of background checks (`totals` column) has changed in New York state in the last 10 years (2010 - 2020). \n",
    "\n",
    "Creating this plot will involve several steps.  First think of what these steps are, and then think of what a logical order for them would be.  You may want to write or type up this list to keep track as you write the code for it.\n",
    "\n",
    "<details><summary>One possible order</summary>\n",
    "1. filter the DataFrame to make a new DataFrame with only data from 2010-2020 and New York state (this can also be done as two consecutive steps in either order)<br>\n",
    "2. use `groupby()` to group by the months of each year and apply the `sum()` function<br>\n",
    "3. make a line plot with the year on the x axis and totals on the y axis\n",
    "</details>\n",
    "\n",
    "Note that when you make the line plot, the year will be the row index as a result of using `groupby()`.  This just means it will automatically be used for the x axis in the line plot, and you do not have to pass it in as a parameter.\n",
    "\n",
    "Now try writing this code without looking at any of the hints!  (But if you get stuck, they are there)"
   ]
  },
  {
   "cell_type": "code",
   "execution_count": null,
   "metadata": {},
   "outputs": [],
   "source": []
  },
  {
   "cell_type": "markdown",
   "metadata": {},
   "source": [
    "<details><summary>One way to do the filtering</summary>\n",
    "<code>\n",
    "year_filter_lower = guns[\"month\"].dt.year >= 2010\n",
    "year_filter_upper = guns[\"month\"].dt.year <= 2020\n",
    "ny_filter = guns[\"state\"] == \"New York\"\n",
    "\n",
    "guns2 = guns[year_filter_lower & year_filter_upper & ny_filter]\n",
    "guns2\n",
    "</code>\n",
    "</details>"
   ]
  },
  {
   "cell_type": "code",
   "execution_count": null,
   "metadata": {},
   "outputs": [],
   "source": []
  },
  {
   "cell_type": "markdown",
   "metadata": {},
   "source": [
    "<details><summary>Grouping, assuming the filtered DataFrame is `guns2`:</summary>\n",
    "<code>\n",
    "grouped_guns2 = guns2.groupby(guns2[\"month\"].dt.year).sum()\n",
    "grouped_guns2\n",
    "</code>\n",
    "</details>"
   ]
  },
  {
   "cell_type": "code",
   "execution_count": null,
   "metadata": {},
   "outputs": [],
   "source": []
  },
  {
   "cell_type": "markdown",
   "metadata": {},
   "source": [
    "<details><summary>Plotting, assuming the filtered and grouped DataFrame is `grouped_guns2`:</summary>\n",
    "<code>\n",
    "grouped_guns2 = guns2.groupby(guns2[\"month\"].dt.year).sum()\n",
    "grouped_guns2\n",
    "</code>\n",
    "</details>\n",
    "\n",
    "How has the total number of background checks for guns in New York state changed from 2010-2020?\n",
    "\n",
    "#### Optional challenge questions:\n",
    "* Find the row with the highest total number of background checks.  <details><summary>Hint:</summary>\n",
    "Use `idxmax()` from MAT 128 or mentioned last lab.\n",
    "</details>\n",
    "* Plot a histogram of the distribution over all states of the median number of long gun background checks made in May in the last five years.  That is, your histogram will contain one data point for each state, which is the median number of long gun background checks made in that state in the last 5 years.\n",
    "* Plot the same histogram as the previous challenge, but for November.  How does it compare to the May histogram?  Does the shape of the distribution change or just the magnitude?"
   ]
  },
  {
   "cell_type": "code",
   "execution_count": null,
   "metadata": {
    "collapsed": true
   },
   "outputs": [],
   "source": []
  }
 ],
 "metadata": {
  "kernelspec": {
   "display_name": "Python 3",
   "language": "python",
   "name": "python3"
  },
  "language_info": {
   "codemirror_mode": {
    "name": "ipython",
    "version": 3
   },
   "file_extension": ".py",
   "mimetype": "text/x-python",
   "name": "python",
   "nbconvert_exporter": "python",
   "pygments_lexer": "ipython3",
   "version": "3.6.10"
  }
 },
 "nbformat": 4,
 "nbformat_minor": 2
}
