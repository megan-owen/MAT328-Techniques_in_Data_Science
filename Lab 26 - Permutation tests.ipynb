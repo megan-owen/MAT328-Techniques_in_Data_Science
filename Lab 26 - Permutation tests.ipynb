{
 "cells": [
  {
   "cell_type": "markdown",
   "metadata": {},
   "source": [
    "# Lab 26 - Permutation tests\n",
    "\n",
    "In this lab, we'll use hypothesis testing to compare the means of two groups to see if they are different.  We will use a type of hypothesis test called a *permutation test* that can be used to test many different kinds of hypotheses.\n",
    "\n",
    "We will test if trips paid for by credit card are longer on average than trips paid for by cash.\n",
    "\n",
    "This lab uses the February 4, 2020 (note the different data) green taxi trip data.\n",
    "\n",
    "Data URL: [https://raw.githubusercontent.com/megan-owen/MAT328-Techniques_in_Data_Science/main/data/Feb4_2020_Green_Taxi_Trip_Data.csv](https://raw.githubusercontent.com/megan-owen/MAT328-Techniques_in_Data_Science/main/data/Feb4_2020_Green_Taxi_Trip_Data.csv)\n",
    "\n",
    "### Section 1:  Loading and cleaning the data\n",
    "\n",
    "First, let's import the necessary libraries."
   ]
  },
  {
   "cell_type": "code",
   "execution_count": null,
   "metadata": {
    "collapsed": true
   },
   "outputs": [],
   "source": [
    "import numpy as np\n",
    "import matplotlib.pyplot as plt\n",
    "import pandas as pd\n",
    "import seaborn as sns\n",
    "%matplotlib inline"
   ]
  },
  {
   "cell_type": "markdown",
   "metadata": {},
   "source": [
    "Load the data from the file into a DataFrame called `taxi`."
   ]
  },
  {
   "cell_type": "code",
   "execution_count": null,
   "metadata": {
    "collapsed": true,
    "scrolled": true
   },
   "outputs": [],
   "source": []
  },
  {
   "cell_type": "markdown",
   "metadata": {},
   "source": [
    "Create a new DataFrame called `taxi2` containing only the columns `trip_distance` and `payment_type`.  "
   ]
  },
  {
   "cell_type": "code",
   "execution_count": null,
   "metadata": {
    "collapsed": true
   },
   "outputs": [],
   "source": []
  },
  {
   "cell_type": "markdown",
   "metadata": {},
   "source": [
    "Drop any rows with missing data in `taxi2`. "
   ]
  },
  {
   "cell_type": "code",
   "execution_count": null,
   "metadata": {
    "collapsed": true
   },
   "outputs": [],
   "source": []
  },
  {
   "cell_type": "markdown",
   "metadata": {},
   "source": [
    "How many rows were dropped?  Do you think this count cause problems in the analysis?\n",
    "\n",
    "Remove all rows with a trip distance <= 0.  Alternatively, make a new DataFrame with only rows with a positive trip distance."
   ]
  },
  {
   "cell_type": "code",
   "execution_count": null,
   "metadata": {
    "collapsed": true
   },
   "outputs": [],
   "source": []
  },
  {
   "cell_type": "markdown",
   "metadata": {},
   "source": [
    "What is the mean trip distance for each payment type?  Hint:  Use groupby(), which was introduced in section 4 of Lab 2.\n",
    "\n",
    "The payment types are:\n",
    "* 1 = credit card\n",
    "* 2 = cash\n",
    "* 3 = no charge\n",
    "* 4 = dispute\n",
    "* 5 = unknown\n",
    "* 6 = voided trip"
   ]
  },
  {
   "cell_type": "code",
   "execution_count": null,
   "metadata": {
    "collapsed": true
   },
   "outputs": [],
   "source": []
  },
  {
   "cell_type": "markdown",
   "metadata": {},
   "source": [
    "Which payment type has the longest mean trip distance?  The smallest?\n",
    "\n",
    "Since we are just interested in trips paid for with credit card (type 1) or cash (type 2), remove all other trips (or alternatively, create a DataFrame containing only credit card or cash trip)."
   ]
  },
  {
   "cell_type": "code",
   "execution_count": null,
   "metadata": {
    "collapsed": true
   },
   "outputs": [],
   "source": []
  },
  {
   "cell_type": "markdown",
   "metadata": {},
   "source": [
    "### Section 2: Hypothesis testing step 1\n",
    "\n",
    "Is there a different in the mean trip distance for trips paid for by credit card (payment type 1) vs. trips paid for by cash (payment type 2)?\n",
    "\n",
    "We will test this hypothesis.  The null hypothesis is given below.\n",
    "\n",
    "**Null hypothesis:** The mean trip distance for trips paid for by credit card is the same as the mean trip distance for trips paid for with cash.\n",
    "\n",
    "What do you think the alternative hypothesis is?  Remember, the null and alternative hypotheses must cover all possibilities.\n",
    "\n",
    "<details><summary>**Alternative hypothesis:**</summary>\n",
    "The mean trip distance for trips paid for by credit card is different from the mean trip distance for trips paid for with cash."
   ]
  },
  {
   "cell_type": "markdown",
   "metadata": {},
   "source": [
    "### Section 3: Hypothesis testing step 2\n",
    "\n",
    "Our test statistic will be the difference in mean trip distances between trips paid for by credit card and trips paid for with cash.  To calculate the test statistic for the data:\n",
    "\n",
    "1. Compute the mean trip distance for trips paid by credit card.\n",
    "2. Compute the mean trip distance for trips paid by cash.\n",
    "3. Subtract mean 1 from mean 2 and take the absolute value.\n",
    "\n",
    "As we will eventually be computing this test statistic for simulated data, we do not want to do any of this computation manually (ex. by looking at the groupby means above, and subtracting one from the other).\n",
    "\n",
    "First compute the mean trip distance for trips paid by credit card (step 1), and store the result in the variable `data_credit_card_mean`. "
   ]
  },
  {
   "cell_type": "code",
   "execution_count": null,
   "metadata": {
    "collapsed": true
   },
   "outputs": [],
   "source": []
  },
  {
   "cell_type": "markdown",
   "metadata": {},
   "source": [
    "Next compute the mean trip distance for trips paid by cash (step 2), and store the result in the variable `data_cash_mean`."
   ]
  },
  {
   "cell_type": "code",
   "execution_count": null,
   "metadata": {
    "collapsed": true
   },
   "outputs": [],
   "source": []
  },
  {
   "cell_type": "markdown",
   "metadata": {},
   "source": [
    "Finally find the absolute value of the difference between the two means (step 3), and store it in the variable `data_test_statistic`."
   ]
  },
  {
   "cell_type": "code",
   "execution_count": null,
   "metadata": {
    "collapsed": true
   },
   "outputs": [],
   "source": []
  },
  {
   "cell_type": "markdown",
   "metadata": {},
   "source": [
    "### Section 4: Hypothesis testing step 3\n",
    "Step 3 is to simulate the test statistic assuming the null hypothesis is true.\n",
    "\n",
    "We will do this by permuting (randomly changing) the payment type column in the dataframe, without changing the trip distance column.  If the payment type doesn't matter, then switching it around shouldn't change the difference in means. \n",
    "\n",
    "The following code will permute the `payment_type` column and store the permutation in a new column called `permuted_payment`."
   ]
  },
  {
   "cell_type": "code",
   "execution_count": null,
   "metadata": {
    "collapsed": true
   },
   "outputs": [],
   "source": [
    "taxi2[\"permuted_payment\"] = np.random.permutation(taxi2['payment_type'])\n",
    "taxi2.head()"
   ]
  },
  {
   "cell_type": "markdown",
   "metadata": {},
   "source": [
    "Compare the first few rows of `permuted_payment` with the first few rows of `payment_type`.  Some of the values should be different.  Try re-running the above line of code several times.  What happens?  Does this make sense?\n",
    "\n",
    "Let's compute the test statistic for the simulated data.  In this case, the code will be similar to the code from Step 3, but should use the `permuted_payment` column instead of the original `payment_type` column.\n",
    "\n",
    "First compute the mean trip distance for trips paid by credit card (step 1) *according to the `permuted_payment` column*, and store the result in the variable `sim_credit_card_mean`. "
   ]
  },
  {
   "cell_type": "code",
   "execution_count": null,
   "metadata": {
    "collapsed": true
   },
   "outputs": [],
   "source": []
  },
  {
   "cell_type": "markdown",
   "metadata": {},
   "source": [
    "Next compute the mean trip distance for trips paid by cash (step 2) *according to the `permuted_payment` column*, and store the result in the variable `sim_cash_mean`."
   ]
  },
  {
   "cell_type": "code",
   "execution_count": null,
   "metadata": {
    "collapsed": true
   },
   "outputs": [],
   "source": []
  },
  {
   "cell_type": "markdown",
   "metadata": {},
   "source": [
    "Finally compute the absolute value of the difference between the two means (step 3), and store it in the variable `sim_test_statistic`."
   ]
  },
  {
   "cell_type": "code",
   "execution_count": null,
   "metadata": {
    "collapsed": true
   },
   "outputs": [],
   "source": [
    "sim_test_statistic = np.abs(sim_credit_card_mean - sim_cash_mean)\n",
    "sim_test_statistic"
   ]
  },
  {
   "cell_type": "markdown",
   "metadata": {},
   "source": [
    "To find the distribution of the test statistic when the null hypothesis is true, we have to repeatedly permute the `payment_type` column and compute the test statistic using this permuted data.  We'll store these test statistics in a list to be able to plot them next.\n",
    "\n",
    "Can you figure out how to do this?  Remember, use a small number of iterations to test your code, so it is faster."
   ]
  },
  {
   "cell_type": "code",
   "execution_count": null,
   "metadata": {
    "collapsed": true
   },
   "outputs": [],
   "source": []
  },
  {
   "cell_type": "markdown",
   "metadata": {},
   "source": [
    "<details> <summary>Hint:</summary>\n",
    "The pseudo-code is:\n",
    "<code>\n",
    "create an empty list\n",
    "loop 10,000 times:\n",
    "    randomly permute the payment_type column and store in permuted_payment column \n",
    "    compute the mean trip distance for credit card trips, using the permuted_payment column\n",
    "    compute the mean trip distance for cash trips, using the permuted_payment column\n",
    "    compute the absolute difference between the two means\n",
    "    store the difference (test statistic) in your list\n",
    "</code>\n",
    "</details>\n",
    "\n",
    "Graph the histogram of the test statistcs that you computed assuming the null hypothesis is true."
   ]
  },
  {
   "cell_type": "code",
   "execution_count": null,
   "metadata": {
    "collapsed": true
   },
   "outputs": [],
   "source": []
  },
  {
   "cell_type": "markdown",
   "metadata": {},
   "source": [
    "### Section 5: Hypothesis testing step 4\n",
    "Compare the data test statistic with the histogram of the test statistics computed from the simulations that assume the null hypothesis is true.  We computed this histogram at the end of Section 3.\n",
    "\n",
    "Does your data test statistic look like it comes from the histogram distribution?\n",
    "\n",
    "Reject or fail to reject the null hypothesis.\n",
    "\n",
    "### Optional challenge questions:\n",
    "* create and test another hypothesis for the green taxi trip data."
   ]
  },
  {
   "cell_type": "code",
   "execution_count": null,
   "metadata": {
    "collapsed": true
   },
   "outputs": [],
   "source": []
  }
 ],
 "metadata": {
  "kernelspec": {
   "display_name": "Python 3",
   "language": "python",
   "name": "python3"
  },
  "language_info": {
   "codemirror_mode": {
    "name": "ipython",
    "version": 3
   },
   "file_extension": ".py",
   "mimetype": "text/x-python",
   "name": "python",
   "nbconvert_exporter": "python",
   "pygments_lexer": "ipython3",
   "version": "3.6.10"
  }
 },
 "nbformat": 4,
 "nbformat_minor": 2
}
