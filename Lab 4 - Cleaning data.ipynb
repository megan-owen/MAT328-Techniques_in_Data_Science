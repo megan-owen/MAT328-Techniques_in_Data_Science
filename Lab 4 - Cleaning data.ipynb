{
 "cells": [
  {
   "cell_type": "markdown",
   "metadata": {},
   "source": [
    "# Lab 4:  Cleaning data\n",
    "\n",
    "We will look at a number of techniques for cleaning data in this lab.  We saw some of them previously in MAT 128.  This lab is set up to be used as a reference when cleaning data in the future.\n",
    "\n",
    "We will use a made-up data file containing a number of common problems.  The made-up data has information about employees at a company, and the following columns:\n",
    "* Name: first name of the employee\n",
    "* Gender: gender of the employee\n",
    "* Pay: yearly pay of the employee\n",
    "* Months at job: number of months the employee has worked at the company\n",
    "\n",
    "Download this made-up data from [https://raw.githubusercontent.com/megan-owen/MAT328-Techniques_in_Data_Science/main/data/Lab4_made-up_data.txt](https://raw.githubusercontent.com/megan-owen/MAT328-Techniques_in_Data_Science/main/data/Lab4_made-up_data.txt) and save it as a .txt file.\n",
    "\n",
    "### Section 1:  Cleaning while loading the data file\n",
    "\n",
    "First import the necessary libraries."
   ]
  },
  {
   "cell_type": "code",
   "execution_count": null,
   "metadata": {
    "collapsed": true
   },
   "outputs": [],
   "source": [
    "import pandas as pd\n",
    "import matplotlib.pyplot as plt"
   ]
  },
  {
   "cell_type": "markdown",
   "metadata": {},
   "source": [
    "We will assume the data is in a text file (a CSV file is a special kind of text file) and in rectangular format.  If the data is in a different format (ex. a PDF file), there are sometimes ways to extract it into a CSV file, but they are beyond the scope of this course.\n",
    "\n",
    "There are 4 problems that can be solved as we read in the data file:\n",
    "* extra rows at the beginning of the file\n",
    "* extra rows at the end of the file\n",
    "* columns delimited (separated) by something other than a comma.  Besides with commas, columns can also be separated by tabs, other white spaces, semi-colons (;), pipes (|), etc.\n",
    "* missing data specified by something other than NaN\n",
    "\n",
    "Open the data file `Lab4_made-up_data.txt` by clicking on it in Jupyter Hub, or opening it in a text editor like NotePad (Windows) or TextEdit (Mac).  Which of the above problems does this file have?\n",
    "\n",
    "We can use the following parameters with `read_csv()`:\n",
    "\n",
    "|Parameter|Example(s)|Effect of example|\n",
    "|:-----|:-------------|:----------------|\n",
    "|`skiprows`|`skiprows = 5`|Skips the first 5 rows in the file|\n",
    "|`skipfooter`|`skipfooter = 3`|Skips the last 3 rows in the file|\n",
    "|`na_values`|`na_values = \"*\"`|Treats \\* as missing data|\n",
    "||`na_values = [\"-\",\".\"]`|Treats both - and . as missing data|\n",
    "|`sep`|`sep = \"\\t\"`|Columns are separated by tabs|\n",
    "||`sep = \"\\s+\"`|Columns are separated by any whitespaces (tabs, spaces, etc.)\n",
    "||`sep = \";\"`|Columns are separated by semi-colons|\n",
    "\n",
    "For even more parameters that can be used with `read_csv()` see its [API](https://pandas.pydata.org/pandas-docs/stable/reference/api/pandas.read_csv.html), which is a reference stating exactly how a function can be used.\n",
    "\n",
    "We will actually need all of these parameters to clean up our data file!  Try using them with `read_csv` below to read in and clean the file:"
   ]
  },
  {
   "cell_type": "code",
   "execution_count": null,
   "metadata": {
    "collapsed": true
   },
   "outputs": [],
   "source": []
  },
  {
   "cell_type": "markdown",
   "metadata": {},
   "source": [
    "Ignore the warning that happens.  Our command was:\n",
    "\n",
    "`df = pd.read_csv(\"Lab4_made-up_data.txt\", skiprows = 2, skipfooter = 2, na_values = \"-\", sep = \"\\t\")`\n",
    "\n",
    "and we skipped the first and last two rows in the data file, and indicated that `-` represented missing data and the columns are separated by tabs.  \n",
    "\n",
    "Note that we have to use `sep = \"\\t\"` instead of `sep = \"\\s+\"`, since `sep = \"\\s+\"` interprets the column name `Months at job` as the names for three separate columns (`Months`,`at`,`job`) due to the spaces.\n",
    "\n",
    "If you haven't already, display your dataframe to see what else needs to be fixed and to check that `read_csv()` worked as expected."
   ]
  },
  {
   "cell_type": "code",
   "execution_count": null,
   "metadata": {
    "collapsed": true
   },
   "outputs": [],
   "source": []
  },
  {
   "cell_type": "markdown",
   "metadata": {},
   "source": [
    "### Section 2: Renaming columns\n",
    "\n",
    "Sometimes column names are really long or otherwise unsuitable, and we want to rename them.  Here are two ways to rename the column `Months at job` to just `Months`.\n",
    "\n",
    "**Method 1:** make a list of the columns names you want to use in the order they appear in the DataFrame, and assign it to `name_of_dataframe.columns`."
   ]
  },
  {
   "cell_type": "code",
   "execution_count": null,
   "metadata": {
    "collapsed": true
   },
   "outputs": [],
   "source": [
    "new_columns = [\"Name\",\"Gender\",\"Pay\",\"Months\"]\n",
    "df.columns = new_columns"
   ]
  },
  {
   "cell_type": "markdown",
   "metadata": {},
   "source": [
    "Display your dataframe to see if method 1 worked."
   ]
  },
  {
   "cell_type": "code",
   "execution_count": null,
   "metadata": {
    "collapsed": true
   },
   "outputs": [],
   "source": []
  },
  {
   "cell_type": "markdown",
   "metadata": {},
   "source": [
    "Reload your DataFrame from the file and try method 2.\n",
    "\n",
    "**Method 2:** specify which column(s) to rename using what's called a dictionary (in {} brackets)"
   ]
  },
  {
   "cell_type": "code",
   "execution_count": null,
   "metadata": {
    "collapsed": true
   },
   "outputs": [],
   "source": [
    "df.rename(columns = {\"Months at job\":\"Months\"}, inplace = True)"
   ]
  },
  {
   "cell_type": "markdown",
   "metadata": {},
   "source": [
    "Display your DataFrame again to check that method 2 works."
   ]
  },
  {
   "cell_type": "code",
   "execution_count": null,
   "metadata": {
    "collapsed": true
   },
   "outputs": [],
   "source": []
  },
  {
   "cell_type": "markdown",
   "metadata": {},
   "source": [
    "For method 2, you can change more than one column at a time like this:\n",
    "\n",
    "`df.rename(columns = {\"Months at job\":\"Months\", \"Pay\": \"Salary\"}, inplace = True)`\n",
    "\n",
    "### Section 3:  Remove duplicate rows \n",
    "\n",
    "Sometimes data sets have duplicate rows that we want to remove.  We will only look at the case where the entire row is a duplicate, but it is also possible to look for duplicates in a single column.\n",
    "\n",
    "First, find the duplicated rows:"
   ]
  },
  {
   "cell_type": "code",
   "execution_count": null,
   "metadata": {
    "collapsed": true
   },
   "outputs": [],
   "source": [
    "dup_filter = df.duplicated()\n",
    "df[dup_filter]"
   ]
  },
  {
   "cell_type": "markdown",
   "metadata": {},
   "source": [
    "To drop the duplicates:"
   ]
  },
  {
   "cell_type": "code",
   "execution_count": null,
   "metadata": {
    "collapsed": true
   },
   "outputs": [],
   "source": [
    "df = df.drop_duplicates()\n",
    "df"
   ]
  },
  {
   "cell_type": "markdown",
   "metadata": {},
   "source": [
    "`df.drop_duplicates()` creates a new DataFrame without the duplicates, and we replace the original DataFrame `df` with this new one.\n",
    "\n",
    "### Section 4: Changing the text in columns\n",
    "\n",
    "Sometimes we want to fix the text in a column.  We look at two common examples in this DataFrame, but there are many other situations we are not covering.\n",
    "\n",
    "#### 4.1 Standardize categories\n",
    "\n",
    "In the `Gender` column, `male` has been represented by both `M` and `male`, while `female` has been represented by `F`, `f`, and `female`.  As humans, we can tell there are really only two categories, but the computer will assume there are 5 categories.\n",
    "\n",
    "We need to standardize how `male` and `female` are stored in the DataFrame.  We do this by defining a *dictionary* that links the different variations to the category name we want to use, and then applies this *map* to the column.\n",
    "\n",
    "So below, the dictionary `gender_map` will replace `M` and `male` with `male`, and `F`, `f`, and `female` with `female`."
   ]
  },
  {
   "cell_type": "code",
   "execution_count": null,
   "metadata": {
    "collapsed": true
   },
   "outputs": [],
   "source": [
    "gender_map = {\"M\":\"male\", \"F\":\"female\", \"f\":\"female\", \"male\":\"male\", \"female\":\"female\"}\n",
    "df[\"Gender\"] = df[\"Gender\"].map(gender_map)\n",
    "df"
   ]
  },
  {
   "cell_type": "markdown",
   "metadata": {},
   "source": [
    "#### 4.2 Removing characters and symbols\n",
    "\n",
    "If a column in a DataFrame only contains numbers, the data values will be stored as `int` (integer) or `float` (number with decimals) and we can do computations with them.  However, if the column contains any letter or other character, all data values will be stored as `string`. \n",
    "\n",
    "In general, a *string* in Python (and other programming languages) is a sequence of letters, numbers, and characters.  Strings are often written with quotes around them.  For example, `\"female\"` and `\"$57,000\"` are both strings.  Python will NOT do computations with strings, even if we would as humans (for example, with the `pay` column).\n",
    "\n",
    "Thus, we have to remove the dollar signs and commas in the pay column to be able to use this column as quantitative data.\n",
    "\n",
    "We will use the `.replace(old,new)` function, which replaces the string `old` with the string `new`.  To delete something entirely, we replace it with the *empty string* `\"\"`."
   ]
  },
  {
   "cell_type": "code",
   "execution_count": null,
   "metadata": {
    "collapsed": true
   },
   "outputs": [],
   "source": [
    "df[\"Pay\"] = df[\"Pay\"].str.replace(\"$\",\"\")\n",
    "df"
   ]
  },
  {
   "cell_type": "markdown",
   "metadata": {},
   "source": [
    "What did the code above delete?  Next remove the commas in the `Pay` column."
   ]
  },
  {
   "cell_type": "code",
   "execution_count": null,
   "metadata": {
    "collapsed": true
   },
   "outputs": [],
   "source": []
  },
  {
   "cell_type": "markdown",
   "metadata": {},
   "source": [
    "### Section 5:  Changing column type\n",
    "\n",
    "Unfortunately, we are not finished yet, because the `Pay` column is still stored as strings.  Check what types the columns are: "
   ]
  },
  {
   "cell_type": "code",
   "execution_count": null,
   "metadata": {
    "collapsed": true
   },
   "outputs": [],
   "source": []
  },
  {
   "cell_type": "markdown",
   "metadata": {},
   "source": [
    "<details><summary>Answer:</summary>\n",
    "<code>df.dtypes</code>\n",
    "</details>\n",
    "\n",
    "What type is shown for the string columns?\n",
    "\n",
    "Object is a catch-all type that includes string.\n",
    "\n",
    "We need to convert the `Pay` column into type `int` using the column function `.astype(int)`.  Can you figure out how to do this?"
   ]
  },
  {
   "cell_type": "code",
   "execution_count": null,
   "metadata": {
    "collapsed": true
   },
   "outputs": [],
   "source": []
  },
  {
   "cell_type": "markdown",
   "metadata": {},
   "source": [
    "<details><summary>Answer:</summary>\n",
    "<code>df[\"Pay\"] = df[\"Pay\"].astype(int)</code>\n",
    "</details>\n",
    "\n",
    "Display the column types again to see if the `Pay` column changed."
   ]
  },
  {
   "cell_type": "code",
   "execution_count": null,
   "metadata": {
    "collapsed": true
   },
   "outputs": [],
   "source": []
  },
  {
   "cell_type": "markdown",
   "metadata": {},
   "source": [
    "We have now cleaned the data set, except for dealing with the missing data which we discussed last lab."
   ]
  }
 ],
 "metadata": {
  "kernelspec": {
   "display_name": "Python 3",
   "language": "python",
   "name": "python3"
  },
  "language_info": {
   "codemirror_mode": {
    "name": "ipython",
    "version": 3
   },
   "file_extension": ".py",
   "mimetype": "text/x-python",
   "name": "python",
   "nbconvert_exporter": "python",
   "pygments_lexer": "ipython3",
   "version": "3.6.10"
  }
 },
 "nbformat": 4,
 "nbformat_minor": 2
}
