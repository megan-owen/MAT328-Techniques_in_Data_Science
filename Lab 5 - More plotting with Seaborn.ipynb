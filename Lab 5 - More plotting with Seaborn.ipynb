{
 "cells": [
  {
   "cell_type": "markdown",
   "metadata": {},
   "source": [
    "# Lab 5: More plotting with Seaborn\n",
    "\n",
    "We will use the Lab 2 FBI NICS Firearms Background Check data, which records the number of background check made.  Recall a background check must be made prior to *some* sales of firearms (a big exception is private sales.)  This data is often used as the best approximation of total gun sales at a given time.\n",
    "\n",
    "For more information on the dataset: [https://github.com/BuzzFeedNews/nics-firearm-background-checks](https://github.com/BuzzFeedNews/nics-firearm-background-checks)\n",
    "\n",
    "For a direct link to the dataset:  [https://raw.githubusercontent.com/BuzzFeedNews/nics-firearm-background-checks/master/data/nics-firearm-background-checks.csv](https://raw.githubusercontent.com/BuzzFeedNews/nics-firearm-background-checks/master/data/nics-firearm-background-checks.csv)\n",
    "\n",
    "If you are interested in gun laws, [this website](https://maps.everytownresearch.org/navigator/index.html) has some interactive information on how they have changed over time.\n",
    "\n",
    "### Section 1: Loading and cleaning the data\n",
    "\n",
    "Import the libraries and set all columns to be displayed:"
   ]
  },
  {
   "cell_type": "code",
   "execution_count": null,
   "metadata": {
    "collapsed": true
   },
   "outputs": [],
   "source": [
    "import pandas as pd\n",
    "import matplotlib.pyplot as plt\n",
    "import seaborn as sns\n",
    "\n",
    "%matplotlib inline\n",
    "pd.set_option('display.max_columns', None)"
   ]
  },
  {
   "cell_type": "markdown",
   "metadata": {},
   "source": [
    "Read the data into the DataFrame `guns`:"
   ]
  },
  {
   "cell_type": "code",
   "execution_count": null,
   "metadata": {
    "collapsed": true
   },
   "outputs": [],
   "source": []
  },
  {
   "cell_type": "markdown",
   "metadata": {},
   "source": [
    "Convert the `month` column into DataTime format."
   ]
  },
  {
   "cell_type": "code",
   "execution_count": null,
   "metadata": {
    "collapsed": true
   },
   "outputs": [],
   "source": []
  },
  {
   "cell_type": "markdown",
   "metadata": {},
   "source": [
    "For the rest of the lab, we will only look at data from New York state.  Use a filter to create this DataFrame, called `ny_guns`, now."
   ]
  },
  {
   "cell_type": "code",
   "execution_count": null,
   "metadata": {
    "collapsed": true
   },
   "outputs": [],
   "source": []
  },
  {
   "cell_type": "markdown",
   "metadata": {},
   "source": [
    "### Section 2:  Line plots\n",
    "\n",
    "In this section, we will look at how to make line plots using Seaborn.  We can more easily make more complex line plots using Seaborn than using Pandas.  Recall a line plot shows how some quantity changes over time.\n",
    "\n",
    "The following code plots a line plot of how the number of handgun background checks changed over time in New York state using Seaborn."
   ]
  },
  {
   "cell_type": "code",
   "execution_count": null,
   "metadata": {
    "collapsed": true
   },
   "outputs": [],
   "source": [
    "sns.relplot(x = \"month\", y = \"handgun\", kind = \"line\", data = ny_guns)"
   ]
  },
  {
   "cell_type": "markdown",
   "metadata": {},
   "source": [
    "What is the trend in handgun background checks over time?  What happened to handgun background checks at the beginning of the pandemic?  Do you notice anything else interesting about the graph?\n",
    "\n",
    "Plot the number of long gun background checks in New York state over time."
   ]
  },
  {
   "cell_type": "code",
   "execution_count": null,
   "metadata": {
    "collapsed": true
   },
   "outputs": [],
   "source": []
  },
  {
   "cell_type": "markdown",
   "metadata": {},
   "source": [
    "What kind of trends do you see in this graph?  How does it compare to the handgun graph?\n",
    "\n",
    "Both plots show a lot of seasonal variation.  To see the overall trend over time, we can \"smooth out\" this seasonal variable by plotting the mean number of background checks for each year.\n",
    "\n",
    "One way to do this would be by using `groupby()` first to compute the means.  However, Seaborn will do this computation automatically.  \n",
    "\n",
    "First make a new column called `year` with just the year for each row."
   ]
  },
  {
   "cell_type": "code",
   "execution_count": null,
   "metadata": {
    "collapsed": true
   },
   "outputs": [],
   "source": []
  },
  {
   "cell_type": "markdown",
   "metadata": {},
   "source": [
    "<details><summary>Answer:</summary>\n",
    "    <code>\n",
    "    ny_guns[\"year\"] = ny_guns[\"month\"].dt.year\n",
    "    </code>\n",
    "</details>\n",
    "\n",
    "Next run the following code."
   ]
  },
  {
   "cell_type": "code",
   "execution_count": null,
   "metadata": {
    "collapsed": true
   },
   "outputs": [],
   "source": [
    "sns.relplot(x = \"year\", y = \"handgun\", kind = \"line\",data = ny_guns)"
   ]
  },
  {
   "cell_type": "markdown",
   "metadata": {},
   "source": [
    "How does this plot compare to our previous handgun background check one?  Which one makes it easier to see the trend in background checks over time?  What do you think the shaded area is?\n",
    "\n",
    "We have multiple measurements for each year value.  Seaborn plots the mean of these measurements as the line, and the shaded region around it is the 95% confidence interval.   \n",
    "\n",
    "You can remove the shaded area with the parameter `ci = None`.  Try it below for the long gun background check data."
   ]
  },
  {
   "cell_type": "code",
   "execution_count": null,
   "metadata": {
    "collapsed": true
   },
   "outputs": [],
   "source": []
  },
  {
   "cell_type": "markdown",
   "metadata": {},
   "source": [
    "How do the long gun background checks compare to the handgun background checks?\n",
    "\n",
    "### Section 3:  Wide vs. long data\n",
    "\n",
    "It would be easier to answer this question if both lines were plotted on the same graph.  To do this, we need to change the format of our DataFrame from *wide* to *long*.\n",
    "\n",
    "Our current DataFrame is *wide* because each of the types of background checks has it's own column, adding to the width of the DataFrame.  To make a *long* DataFrame, we are going instead make a single column stating the type of background check, and another column beside that one with the number of background checks.\n",
    "\n",
    "We will simplify by only using the following columns.\n",
    "\n",
    "The `other` category counts background checks for frames and receivers (both parts of guns), and other firearms that aren't handguns or long guns.\n",
    "\n",
    "The `multiple` category counts background checks for more than one gun at a time.\n",
    "\n"
   ]
  },
  {
   "cell_type": "code",
   "execution_count": null,
   "metadata": {
    "collapsed": true
   },
   "outputs": [],
   "source": [
    "cols_to_use = [\"handgun\",\"long_gun\",\"other\",\"multiple\"]"
   ]
  },
  {
   "cell_type": "markdown",
   "metadata": {},
   "source": [
    "The `melt()` function converts a DataFrame from the wide format to the long format.  "
   ]
  },
  {
   "cell_type": "code",
   "execution_count": null,
   "metadata": {
    "collapsed": true
   },
   "outputs": [],
   "source": [
    "ny_guns_long = pd.melt(ny_guns, id_vars = [\"month\"], value_vars = cols_to_use)"
   ]
  },
  {
   "cell_type": "markdown",
   "metadata": {},
   "source": [
    "Display `ny_guns_long`.  What do you notice about this new DataFrame?"
   ]
  },
  {
   "cell_type": "code",
   "execution_count": null,
   "metadata": {
    "collapsed": true
   },
   "outputs": [],
   "source": []
  },
  {
   "cell_type": "markdown",
   "metadata": {},
   "source": [
    "Try making a line plot of the counts in `ny_guns_long`, where the x axis is `month`, the y axis is `value`, and the color (`hue` parameter) is `variable`."
   ]
  },
  {
   "cell_type": "code",
   "execution_count": null,
   "metadata": {
    "collapsed": true
   },
   "outputs": [],
   "source": []
  },
  {
   "cell_type": "markdown",
   "metadata": {},
   "source": [
    "<details><summary>Answer:</summary>\n",
    "<code>\n",
    "sns.relplot(x = \"month\", y = \"value\", hue = \"variable\", kind = \"line\", data = ny_guns_long)\n",
    "</code>\n",
    "</details>\n",
    "\n",
    "How do the number of background checks for the different categories compare?\n",
    "\n",
    "Can you figure out how to make a smoothed line plot that still shows all 4 categories?"
   ]
  },
  {
   "cell_type": "code",
   "execution_count": null,
   "metadata": {
    "collapsed": true
   },
   "outputs": [],
   "source": []
  },
  {
   "cell_type": "markdown",
   "metadata": {},
   "source": [
    "<details><summary>Answer:</summary>\n",
    "<code>\n",
    "ny_guns_long[\"year\"] = ny_guns_long[\"month\"].dt.year\n",
    "sns.relplot(x = \"year\", y = \"value\", hue = \"variable\", kind = \"line\", data = ny_guns_long)\n",
    "</code>\n",
    "</details>\n",
    "\n",
    "Which plot do you think is more informative?  The smoothed one or the previous one?  What do you notice from the smoothed plot?"
   ]
  },
  {
   "cell_type": "code",
   "execution_count": null,
   "metadata": {
    "collapsed": true,
    "scrolled": true
   },
   "outputs": [],
   "source": []
  },
  {
   "cell_type": "markdown",
   "metadata": {},
   "source": [
    "### Section 4: Bar and box plots\n",
    "\n",
    "We can also create more sophisticated bar plots in Seaborn.  The following code creates a bar plot of the mean number of background checks performed for each category for each year.  We also increase the size of the figure and rotate the x axis labels by 45 degrees (what happens if we don't do this?)."
   ]
  },
  {
   "cell_type": "code",
   "execution_count": null,
   "metadata": {
    "collapsed": true
   },
   "outputs": [],
   "source": [
    "g=sns.catplot(x = \"year\", y = \"value\",hue = \"variable\", kind = \"bar\", data = ny_guns_long)\n",
    "g.fig.set_size_inches(18,6)\n",
    "plt.xticks(rotation=45)"
   ]
  },
  {
   "cell_type": "markdown",
   "metadata": {},
   "source": [
    "What do you think the black lines are at the top of the bars?\n",
    "\n",
    "A bar's height is the mean number of background check made each year for that category, and the black line at the top of each bar is the 95% confidence level for that mean.\n",
    "\n",
    "This plot is presenting almost the same information as the last line plot.  Which do you prefer?  Which plot is easier to interpret?\n",
    "\n",
    "If we want to see the distribution of background checks made each year, we need to use boxplots instead.\n"
   ]
  },
  {
   "cell_type": "code",
   "execution_count": null,
   "metadata": {
    "collapsed": true
   },
   "outputs": [],
   "source": [
    "g = sns.catplot(x = \"year\", y = \"value\",hue = \"variable\", kind = \"box\", data = ny_guns_long)\n",
    "g.fig.set_size_inches(20,6)"
   ]
  },
  {
   "cell_type": "markdown",
   "metadata": {},
   "source": [
    "Even with making this plot wider, it is still quite hard to read.  Let's plot only the last 5 years.\n",
    "\n",
    "First, use a filter to make a new DataFrame from `ny_guns_long` containing only the years 2015-2020, and then make a new boxplot using this DataFrame."
   ]
  },
  {
   "cell_type": "code",
   "execution_count": null,
   "metadata": {
    "collapsed": true
   },
   "outputs": [],
   "source": []
  },
  {
   "cell_type": "markdown",
   "metadata": {},
   "source": [
    "What do you notice about the distributions of the different categories?\n",
    "\n",
    "### Section 5:  Scatterplot alternatives\n",
    "\n",
    "A scatterplot visualizes a *bivariate distribution*, or a shared distribution between two variables.\n",
    "\n",
    "Make a scatterplot in Seaborn using the New York data where the x axis is the number of handgun background checks, and the y axis is the number of long_gun background checks."
   ]
  },
  {
   "cell_type": "code",
   "execution_count": null,
   "metadata": {
    "collapsed": true
   },
   "outputs": [],
   "source": []
  },
  {
   "cell_type": "markdown",
   "metadata": {},
   "source": [
    "What do you notice about this scatterplot?  Can you tell which region contains the most number of data points?\n",
    "\n",
    "When we make a scatterplot with a lot of data points, they can overlap so much that it is hard to tell where they are most concentrated.  We can smooth the data to show the density (where more data points are concentrated) instead of the individual data points.\n",
    "\n",
    "First, let's make a scatterplot using a different Seaborn function."
   ]
  },
  {
   "cell_type": "code",
   "execution_count": null,
   "metadata": {
    "collapsed": true
   },
   "outputs": [],
   "source": [
    "sns.jointplot(x = \"handgun\", y = \"long_gun\", data = ny_guns)"
   ]
  },
  {
   "cell_type": "markdown",
   "metadata": {},
   "source": [
    "What do you think the histograms on the sides of the scatterplot are of?\n",
    "\n",
    "To smooth the data points, add the parameter `kind = \"kde\"`."
   ]
  },
  {
   "cell_type": "code",
   "execution_count": null,
   "metadata": {
    "collapsed": true
   },
   "outputs": [],
   "source": []
  },
  {
   "cell_type": "markdown",
   "metadata": {},
   "source": [
    "What trend do we see between handgun and long_gun background checks?\n",
    "\n",
    "This plot is smoothed using a mathematical technique called *kernel density estimation (kde)*.  In very simple terms, the smoothed point is computed by taking a weighted mean of neighboring points.  We are not covering kernel density estimation in MAT 328, but if you are interested in learning more about it, two references are:\n",
    "- [kernel density estimation explained visually](https://mathisonian.github.io/kde/)\n",
    "- [more in depth explanation of kernel density estimation](https://jakevdp.github.io/PythonDataScienceHandbook/05.13-kernel-density-estimation.html)\n",
    "\n",
    "### Optional Challenge Questions:\n",
    "- Above, we used Seaborn to compute the mean number of handgun background checks for each year and use those values to make a line plot.  Alternatively, we could use `groupby()` to compute these means, and then plot the means directly as a line plot.  Try this.  Which plot do you prefer?  Which was easier?  Are there any advantages to using `groupby()`?"
   ]
  },
  {
   "cell_type": "code",
   "execution_count": null,
   "metadata": {
    "collapsed": true
   },
   "outputs": [],
   "source": []
  }
 ],
 "metadata": {
  "kernelspec": {
   "display_name": "Python 3",
   "language": "python",
   "name": "python3"
  },
  "language_info": {
   "codemirror_mode": {
    "name": "ipython",
    "version": 3
   },
   "file_extension": ".py",
   "mimetype": "text/x-python",
   "name": "python",
   "nbconvert_exporter": "python",
   "pygments_lexer": "ipython3",
   "version": "3.6.10"
  }
 },
 "nbformat": 4,
 "nbformat_minor": 2
}
